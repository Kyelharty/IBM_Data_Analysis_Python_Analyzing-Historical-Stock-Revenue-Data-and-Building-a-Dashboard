{
 "cells": [
  {
   "cell_type": "code",
   "execution_count": 6,
   "id": "20b88a86-718f-4205-b682-47252090a465",
   "metadata": {},
   "outputs": [],
   "source": [
    "import pandas as pd\n",
    "import requests\n",
    "from bs4 import BeautifulSoup\n",
    "import yfinance as yf\n",
    "import warnings\n",
    "# Ignore all warnings\n",
    "warnings.filterwarnings(\"ignore\", category=FutureWarning)\n",
    "url = \"https://www.macrotrends.net/stocks/charts/GME/gamestop/revenue\"\n",
    "html_data = requests.get(url).text"
   ]
  },
  {
   "cell_type": "code",
   "execution_count": 7,
   "id": "82e7e567-4015-4bac-adfd-e16829dc5acf",
   "metadata": {},
   "outputs": [],
   "source": [
    "soup = BeautifulSoup(html_data,\"html5lib\")"
   ]
  },
  {
   "cell_type": "code",
   "execution_count": 8,
   "id": "e6064362-5d4f-416a-a515-5fe54bc73964",
   "metadata": {},
   "outputs": [
    {
     "name": "stdout",
     "output_type": "stream",
     "text": [
      "Columns in DataFrame: ['GameStop Quarterly Revenue (Millions of US $)', 'GameStop Quarterly Revenue (Millions of US $).1']\n",
      "         Date Revenue\n",
      "0  2025-07-31     972\n",
      "1  2025-04-30     732\n",
      "2  2025-01-31    1283\n",
      "3  2024-10-31     860\n",
      "4  2024-07-31     798\n"
     ]
    }
   ],
   "source": [
    "import requests\n",
    "import pandas as pd\n",
    "from bs4 import BeautifulSoup\n",
    "\n",
    "url = \"https://www.macrotrends.net/stocks/charts/GME/gamestop/revenue\"  # Replace with the actual URL\n",
    "\n",
    "headers = {\n",
    "    'User-Agent': 'Mozilla/5.0 (Windows NT 10.0; Win64; x64) AppleWebKit/537.36 (KHTML, like Gecko) Chrome/91.0.4472.124 Safari/537.36'\n",
    "}\n",
    "\n",
    "\n",
    "response = requests.get(url, headers=headers)\n",
    "soup = BeautifulSoup(response.content, 'html.parser')\n",
    "\n",
    "\n",
    "try:\n",
    "\n",
    "    gme_revenue = pd.read_html(str(soup), match=\"GameStop Quarterly Revenue\", flavor='bs4')[0]\n",
    "    \n",
    "   \n",
    "    print(\"Columns in DataFrame:\", gme_revenue.columns.tolist())\n",
    "    \n",
    "    gme_revenue = gme_revenue.rename(columns={\n",
    "        gme_revenue.columns[0]: 'Date',\n",
    "        gme_revenue.columns[1]: 'Revenue'\n",
    "    })\n",
    "    \n",
    "    if 'Revenue' in gme_revenue.columns:\n",
    "        gme_revenue[\"Revenue\"] = gme_revenue[\"Revenue\"].astype(str).str.replace(\",\",\"\").str.replace(\"$\",\"\")\n",
    "    \n",
    "except Exception as e:\n",
    "    print(f\"Error with first method: {e}\")\n",
    "    \n",
    "    try:\n",
    "        gme_revenue = pd.read_html(url, match=\"GameStop Quarterly Revenue\", flavor='bs4')[0]\n",
    "        \n",
    "\n",
    "        print(\"Columns in DataFrame (second attempt):\", gme_revenue.columns.tolist())\n",
    "        \n",
    "\n",
    "        gme_revenue = gme_revenue.rename(columns={\n",
    "            gme_revenue.columns[0]: 'Date',\n",
    "            gme_revenue.columns[1]: 'Revenue'\n",
    "        })\n",
    "        \n",
    "       \n",
    "        if 'Revenue' in gme_revenue.columns:\n",
    "            gme_revenue[\"Revenue\"] = gme_revenue[\"Revenue\"].astype(str).str.replace(\",\",\"\").str.replace(\"$\",\"\")\n",
    "    \n",
    "    except Exception as e:\n",
    "        print(f\"Error with second method: {e}\")\n",
    "\n",
    "print(gme_revenue.head())"
   ]
  },
  {
   "cell_type": "code",
   "execution_count": 3,
   "id": "730e4500-a777-438c-94e1-3cc925b12a34",
   "metadata": {},
   "outputs": [
    {
     "data": {
      "text/html": [
       "<div>\n",
       "<style scoped>\n",
       "    .dataframe tbody tr th:only-of-type {\n",
       "        vertical-align: middle;\n",
       "    }\n",
       "\n",
       "    .dataframe tbody tr th {\n",
       "        vertical-align: top;\n",
       "    }\n",
       "\n",
       "    .dataframe thead th {\n",
       "        text-align: right;\n",
       "    }\n",
       "</style>\n",
       "<table border=\"1\" class=\"dataframe\">\n",
       "  <thead>\n",
       "    <tr style=\"text-align: right;\">\n",
       "      <th></th>\n",
       "      <th>Date</th>\n",
       "      <th>Revenue</th>\n",
       "    </tr>\n",
       "  </thead>\n",
       "  <tbody>\n",
       "    <tr>\n",
       "      <th>0</th>\n",
       "      <td>2021-01-01</td>\n",
       "      <td>100.0</td>\n",
       "    </tr>\n",
       "    <tr>\n",
       "      <th>1</th>\n",
       "      <td>2021-02-01</td>\n",
       "      <td>150.0</td>\n",
       "    </tr>\n",
       "    <tr>\n",
       "      <th>3</th>\n",
       "      <td>2021-04-01</td>\n",
       "      <td>200.0</td>\n",
       "    </tr>\n",
       "    <tr>\n",
       "      <th>4</th>\n",
       "      <td>2021-05-01</td>\n",
       "      <td>250.0</td>\n",
       "    </tr>\n",
       "  </tbody>\n",
       "</table>\n",
       "</div>"
      ],
      "text/plain": [
       "         Date  Revenue\n",
       "0  2021-01-01    100.0\n",
       "1  2021-02-01    150.0\n",
       "3  2021-04-01    200.0\n",
       "4  2021-05-01    250.0"
      ]
     },
     "execution_count": 3,
     "metadata": {},
     "output_type": "execute_result"
    }
   ],
   "source": [
    "import pandas as pd\n",
    "\n",
    "gme_revenue = pd.DataFrame({\n",
    "    'Date': ['2021-01-01', '2021-02-01', '2021-03-01', '2021-04-01', '2021-05-01'],\n",
    "    'Revenue': [100, 150, None, 200, 250]\n",
    "})\n",
    "\n",
    "gme_revenue.dropna(inplace=True)\n",
    "gme_revenue.tail()"
   ]
  },
  {
   "cell_type": "code",
   "execution_count": null,
   "id": "e6cf2b35-6030-4f8d-9cf1-34ca1d9012ec",
   "metadata": {},
   "outputs": [],
   "source": []
  }
 ],
 "metadata": {
  "kernelspec": {
   "display_name": "Python [conda env:base] *",
   "language": "python",
   "name": "conda-base-py"
  },
  "language_info": {
   "codemirror_mode": {
    "name": "ipython",
    "version": 3
   },
   "file_extension": ".py",
   "mimetype": "text/x-python",
   "name": "python",
   "nbconvert_exporter": "python",
   "pygments_lexer": "ipython3",
   "version": "3.13.5"
  }
 },
 "nbformat": 4,
 "nbformat_minor": 5
}
